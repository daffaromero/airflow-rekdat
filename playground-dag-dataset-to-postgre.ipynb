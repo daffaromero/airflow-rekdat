{
 "cells": [
  {
   "cell_type": "code",
   "execution_count": 4,
   "metadata": {},
   "outputs": [],
   "source": [
    "# !! ATTENTION !!\n",
    "# 1. Download the dataset of sentiment140 (https://www.kaggle.com/datasets/kazanova/sentiment140)\n",
    "# 2. Add \"target, twitId, date, flag, userName, twitContent\" in the first row of the CSV for headers"
   ]
  },
  {
   "cell_type": "code",
   "execution_count": 5,
   "metadata": {},
   "outputs": [],
   "source": [
    "import psycopg2 as pg\n",
    "import psycopg2.extras as extras\n",
    "import pandas as pd"
   ]
  },
  {
   "cell_type": "code",
   "execution_count": 6,
   "metadata": {},
   "outputs": [],
   "source": [
    "def dag():\n",
    "    conn = pg.connect(\"host=localhost dbname=pycsv user=postgres password=admin\")\n",
    "    \n",
    "    # Fetch data from CSV of some rows and updates the CSV\n",
    "    path = 'sentiment140.csv'                                           # Specify the file path of Sentiment140 CSV dataset\n",
    "    num_of_rows = 10                                                    \n",
    "    \n",
    "    df_all = pd.read_csv(path, encoding='latin-1')\n",
    "    dfres = df_all.head(num_of_rows)                                    # Get the row of 0-{num_of_rows} data\n",
    "    df_all.drop(df_all.index[0:num_of_rows], axis=0, inplace=True)      # Get the row of {num_of_rows}-end data\n",
    "    df_all.to_csv(\"sentiment140.csv\", index=False)                      # Update CSV file with sliced dataframe\n",
    "    \n",
    "    # Dropping irrelevant attributes\n",
    "    df = dfres.drop(['target', 'date', 'flag'], axis=1)\n",
    "    \n",
    "    # Adding to PostgreSQL  \n",
    "    tuples = [tuple(x) for x in df.to_numpy()]\n",
    "    tablename = 'sentiment_dataset'\n",
    "  \n",
    "    cols = ','.join(list(df.columns))\n",
    "    # SQL query to execute\n",
    "    query = \"INSERT INTO %s(%s) VALUES %%s\" % (tablename, cols)\n",
    "    cursor = conn.cursor()\n",
    "    try:\n",
    "        cursor.execute(\"\"\"\n",
    "            CREATE TABLE IF NOT EXISTS \"\"\" + tablename + \"\"\" (\n",
    "                twitId varchar(100),\n",
    "                twitContent varchar(500),\n",
    "                userName varchar(50)\n",
    "            );\n",
    "        \"\"\")\n",
    "        extras.execute_values(cursor, query, tuples)\n",
    "        conn.commit()\n",
    "    except (Exception, pg.DatabaseError) as error:\n",
    "        print(\"Error: %s\" % error)\n",
    "        conn.rollback()\n",
    "        cursor.close()\n",
    "        return 1\n",
    "    print(\"the dataframe is inserted\")\n",
    "    cursor.close()    "
   ]
  },
  {
   "cell_type": "code",
   "execution_count": 7,
   "metadata": {},
   "outputs": [
    {
     "name": "stdout",
     "output_type": "stream",
     "text": [
      "the dataframe is inserted\n"
     ]
    }
   ],
   "source": [
    "dag() # For each dag() called, we will be pushing 10 first rows to the database"
   ]
  }
 ],
 "metadata": {
  "kernelspec": {
   "display_name": "Python 3.10.4 64-bit",
   "language": "python",
   "name": "python3"
  },
  "language_info": {
   "codemirror_mode": {
    "name": "ipython",
    "version": 3
   },
   "file_extension": ".py",
   "mimetype": "text/x-python",
   "name": "python",
   "nbconvert_exporter": "python",
   "pygments_lexer": "ipython3",
   "version": "3.10.4"
  },
  "orig_nbformat": 4,
  "vscode": {
   "interpreter": {
    "hash": "9b0ee28c6ade25ce3851b4ca5491f391a8544d9f6445e0850f4e7068c5059bc5"
   }
  }
 },
 "nbformat": 4,
 "nbformat_minor": 2
}
