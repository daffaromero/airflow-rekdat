{
 "cells": [
  {
   "cell_type": "code",
   "execution_count": 9,
   "metadata": {},
   "outputs": [],
   "source": [
    "import tweepy\n",
    "import pandas as pd\n",
    "import json\n",
    "from datetime import datetime\n",
    "\n",
    "\n",
    "def run_twitter_etl():\n",
    "\n",
    "    consumer_key = 'xxhLZKqGabwbTAFU7WHPDa5Jl'\n",
    "    consumer_secret = 'S3ir9SCmtThwqKyEcaFmZIXiaI1aC5BGImO8BBrJNtvGoqHiEO'\n",
    "    access_key = '914125130946682880-a02PuQgJAfdYZsigqf8a9ppYY8vIgvG'\n",
    "    access_secret = 'LG6OIGgezptevbdNbJdZPYmbEhooCGcji9R7bLlevQlOI'\n",
    "\n",
    "    # Twitter authentication\n",
    "    auth = tweepy.OAuthHandler(access_key, access_secret)\n",
    "    auth.set_access_token(consumer_key, consumer_secret)\n",
    "\n",
    "    # # # Creating an API object\n",
    "    api = tweepy.API(auth)\n",
    "    tweets = api.user_timeline(screen_name='@elonmusk',\n",
    "                               # 200 is the maximum allowed count\n",
    "                               count=50,\n",
    "                               include_rts=False,\n",
    "                               # Necessary to keep full_text\n",
    "                               # otherwise only the first 140 words are extracted\n",
    "                               tweet_mode='extended'\n",
    "                               )\n",
    "\n",
    "    list = []\n",
    "    for tweet in tweets:\n",
    "        text = tweet[\"full_text\"]\n",
    "\n",
    "        refined_tweet = {\"user\": tweet.user.screen_name,\n",
    "                         'text': text,\n",
    "                         'favorite_count': tweet.favorite_count,\n",
    "                         'retweet_count': tweet.retweet_count,\n",
    "                         'created_at': tweet.created_at}\n",
    "\n",
    "        list.append(refined_tweet)\n",
    "\n",
    "    df = pd.DataFrame(list)\n",
    "    df.to_csv(r'C:\\Users\\daffa\\docker\\airflow\\refined_tweets.csv')\n"
   ]
  },
  {
   "cell_type": "code",
   "execution_count": 17,
   "metadata": {},
   "outputs": [],
   "source": [
    "from tweepy import *\n",
    "\n",
    "import tweepy\n",
    "import csv\n",
    "import re \n",
    "import string\n",
    " \n",
    "consumer_key = 'xxhLZKqGabwbTAFU7WHPDa5Jl'\n",
    "consumer_secret = 'S3ir9SCmtThwqKyEcaFmZIXiaI1aC5BGImO8BBrJNtvGoqHiEO'\n",
    "access_key = '914125130946682880-a02PuQgJAfdYZsigqf8a9ppYY8vIgvG'\n",
    "access_secret = 'LG6OIGgezptevbdNbJdZPYmbEhooCGcji9R7bLlevQlOI'\n",
    " \n",
    "auth = tweepy.OAuthHandler(consumer_key, consumer_secret)\n",
    "auth.set_access_token(access_key, access_secret)\n",
    " \n",
    "api = tweepy.API(auth,wait_on_rate_limit=True)\n",
    "\n",
    "hashtag = '#WorldCup'\n",
    "query = tweepy.Cursor(api.search_tweets, q=hashtag, tweet_mode='extended').items(50)\n",
    "# print(tweets)\n",
    "\n",
    "list = []\n",
    "for tweet in query:\n",
    "    if 'retweeted_status' in tweet._json:\n",
    "        text = tweet._json['retweeted_status'][\"full_text\"]\n",
    "    else:\n",
    "        text = tweet.full_text\n",
    "\n",
    "    refined_tweet = {\"user\": tweet.user.screen_name,\n",
    "                    'text': text,\n",
    "                    'created_at': tweet.created_at}\n",
    "\n",
    "    list.append(refined_tweet)\n",
    "\n",
    "df = pd.DataFrame(list)\n",
    "df.to_csv(r'C:\\Users\\daffa\\docker\\airflow\\refined_tweets.csv')\n"
   ]
  },
  {
   "cell_type": "code",
   "execution_count": 25,
   "metadata": {},
   "outputs": [],
   "source": [
    "def twitter_etl():\n",
    "    # Twitter authentication\n",
    "    consumer_key = 'xxhLZKqGabwbTAFU7WHPDa5Jl'\n",
    "    consumer_secret = 'S3ir9SCmtThwqKyEcaFmZIXiaI1aC5BGImO8BBrJNtvGoqHiEO'\n",
    "    access_key = '914125130946682880-a02PuQgJAfdYZsigqf8a9ppYY8vIgvG'\n",
    "    access_secret = 'LG6OIGgezptevbdNbJdZPYmbEhooCGcji9R7bLlevQlOI'\n",
    "\n",
    "    auth = tweepy.OAuthHandler(consumer_key, consumer_secret)\n",
    "    auth.set_access_token(access_key, access_secret)\n",
    "\n",
    "    api = tweepy.API(auth, wait_on_rate_limit=True)\n",
    "\n",
    "    hashtag = '#WorldCup'\n",
    "    query = tweepy.Cursor(api.search_tweets, q=hashtag,\n",
    "                            tweet_mode='extended').items(100)\n",
    "        # print(tweets)\n",
    "\n",
    "    list = []\n",
    "    for tweet in query:\n",
    "            if 'retweeted_status' in tweet._json:\n",
    "                text = tweet._json['retweeted_status'][\"full_text\"]\n",
    "            else:\n",
    "                text = tweet.full_text\n",
    "\n",
    "    refined_tweet = {\"user\": tweet.user.screen_name,\n",
    "                        'text': text,\n",
    "                        'created_at': tweet.created_at}\n",
    "\n",
    "    list.append(refined_tweet)\n",
    "    scraped_tweets = pd.DataFrame(list)\n",
    "    scraped_tweets.to_csv(r'C:\\Users\\daffa\\docker\\airflow\\refined_tweets.csv')"
   ]
  },
  {
   "cell_type": "code",
   "execution_count": 28,
   "metadata": {},
   "outputs": [
    {
     "ename": "AttributeError",
     "evalue": "'dict' object has no attribute 'full_text'",
     "output_type": "error",
     "traceback": [
      "\u001b[1;31m---------------------------------------------------------------------------\u001b[0m",
      "\u001b[1;31mAttributeError\u001b[0m                            Traceback (most recent call last)",
      "Cell \u001b[1;32mIn [28], line 21\u001b[0m\n\u001b[0;32m     19\u001b[0m             text \u001b[39m=\u001b[39m tweet\u001b[39m.\u001b[39m_json[\u001b[39m'\u001b[39m\u001b[39mretweeted_status\u001b[39m\u001b[39m'\u001b[39m][\u001b[39m\"\u001b[39m\u001b[39mfull_text\u001b[39m\u001b[39m\"\u001b[39m]\n\u001b[0;32m     20\u001b[0m         \u001b[39melse\u001b[39;00m:\n\u001b[1;32m---> 21\u001b[0m             text \u001b[39m=\u001b[39m tweet\u001b[39m.\u001b[39;49m_json\u001b[39m.\u001b[39;49mfull_text\n\u001b[0;32m     23\u001b[0m refined_tweet \u001b[39m=\u001b[39m {\u001b[39m\"\u001b[39m\u001b[39muser\u001b[39m\u001b[39m\"\u001b[39m: tweet\u001b[39m.\u001b[39muser\u001b[39m.\u001b[39mscreen_name,\n\u001b[0;32m     24\u001b[0m                     \u001b[39m'\u001b[39m\u001b[39mtext\u001b[39m\u001b[39m'\u001b[39m: text}\n\u001b[0;32m     26\u001b[0m \u001b[39mlist\u001b[39m\u001b[39m.\u001b[39mappend(refined_tweet)\n",
      "\u001b[1;31mAttributeError\u001b[0m: 'dict' object has no attribute 'full_text'"
     ]
    }
   ],
   "source": [
    "consumer_key = 'xxhLZKqGabwbTAFU7WHPDa5Jl'\n",
    "consumer_secret = 'S3ir9SCmtThwqKyEcaFmZIXiaI1aC5BGImO8BBrJNtvGoqHiEO'\n",
    "access_key = '914125130946682880-a02PuQgJAfdYZsigqf8a9ppYY8vIgvG'\n",
    "access_secret = 'LG6OIGgezptevbdNbJdZPYmbEhooCGcji9R7bLlevQlOI'\n",
    "\n",
    "auth = tweepy.OAuthHandler(consumer_key, consumer_secret)\n",
    "auth.set_access_token(access_key, access_secret)\n",
    "\n",
    "api = tweepy.API(auth, wait_on_rate_limit=True)\n",
    "\n",
    "hashtag = '#WorldCup'\n",
    "query = tweepy.Cursor(api.search_tweets, q=hashtag,\n",
    "                            tweet_mode='extended').items(100)\n",
    "        # print(tweets)\n",
    "\n",
    "list = []\n",
    "for tweet in query:\n",
    "        if 'retweeted_status' in tweet._json:\n",
    "            text = tweet._json['retweeted_status'][\"full_text\"]\n",
    "        else:\n",
    "            text = tweet.full_text\n",
    "        print(tweet)\n",
    "\n",
    "refined_tweet = {\"user\": tweet.user.screen_name,\n",
    "                    'text': text}\n",
    "\n",
    "\n",
    "list.append(refined_tweet)\n",
    "scraped_tweets = pd.DataFrame(list)\n",
    "scraped_tweets.to_csv(r'C:\\Users\\daffa\\docker\\airflow\\refined_tweets.csv')"
   ]
  },
  {
   "cell_type": "code",
   "execution_count": 26,
   "metadata": {},
   "outputs": [
    {
     "data": {
      "text/plain": [
       "<function __main__.twitter_etl()>"
      ]
     },
     "execution_count": 26,
     "metadata": {},
     "output_type": "execute_result"
    }
   ],
   "source": [
    "twitter_etl"
   ]
  }
 ],
 "metadata": {
  "kernelspec": {
   "display_name": "Python 3.9.2 64-bit",
   "language": "python",
   "name": "python3"
  },
  "language_info": {
   "codemirror_mode": {
    "name": "ipython",
    "version": 3
   },
   "file_extension": ".py",
   "mimetype": "text/x-python",
   "name": "python",
   "nbconvert_exporter": "python",
   "pygments_lexer": "ipython3",
   "version": "3.9.2"
  },
  "orig_nbformat": 4,
  "vscode": {
   "interpreter": {
    "hash": "734a1a0614aa2f1d312ffeea16427bd34c21195a621ebc0a9cfbd221b5d46f73"
   }
  }
 },
 "nbformat": 4,
 "nbformat_minor": 2
}
