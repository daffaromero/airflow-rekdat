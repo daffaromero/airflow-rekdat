{
 "cells": [
  {
   "cell_type": "code",
   "execution_count": 12,
   "metadata": {},
   "outputs": [],
   "source": [
    "import tweepy\n",
    "import pandas as pd\n",
    "import json\n",
    "from datetime import datetime\n",
    "\n",
    "consumer_key = 'xxhLZKqGabwbTAFU7WHPDa5Jl'\n",
    "consumer_secret = 'S3ir9SCmtThwqKyEcaFmZIXiaI1aC5BGImO8BBrJNtvGoqHiEO'\n",
    "access_key = '914125130946682880-a02PuQgJAfdYZsigqf8a9ppYY8vIgvG'\n",
    "access_secret = 'LG6OIGgezptevbdNbJdZPYmbEhooCGcji9R7bLlevQlOI'\n",
    "\n",
    "auth = tweepy.OAuthHandler(consumer_key, consumer_secret)\n",
    "auth.set_access_token(access_key, access_secret)\n",
    "\n",
    "api = tweepy.API(auth, wait_on_rate_limit=True)\n",
    "\n",
    "hashtag = '#WorldCup'\n",
    "query = tweepy.Cursor(api.search_tweets, q=hashtag, tweet_mode='extended').items(100)\n",
    "\n",
    "list = []\n",
    "for tweet in query:\n",
    "    if 'retweeted_status' in tweet._json:\n",
    "        text = tweet._json['retweeted_status'][\"full_text\"]\n",
    "    else:\n",
    "        text = tweet.full_text\n",
    "        \n",
    "    refined_tweet = {\"user\": tweet.user.screen_name,\n",
    "                     'text': text}\n",
    "    \n",
    "    list.append(refined_tweet)\n",
    "    \n",
    "scraped_tweets = pd.DataFrame(list)\n",
    "scraped_tweets.to_csv(r'C:\\Users\\daffa\\docker\\airflow\\refined_tweets.csv')"
   ]
  }
 ],
 "metadata": {
  "kernelspec": {
   "display_name": "Python 3.9.2 64-bit",
   "language": "python",
   "name": "python3"
  },
  "language_info": {
   "codemirror_mode": {
    "name": "ipython",
    "version": 3
   },
   "file_extension": ".py",
   "mimetype": "text/x-python",
   "name": "python",
   "nbconvert_exporter": "python",
   "pygments_lexer": "ipython3",
   "version": "3.9.2"
  },
  "orig_nbformat": 4,
  "vscode": {
   "interpreter": {
    "hash": "734a1a0614aa2f1d312ffeea16427bd34c21195a621ebc0a9cfbd221b5d46f73"
   }
  }
 },
 "nbformat": 4,
 "nbformat_minor": 2
}
