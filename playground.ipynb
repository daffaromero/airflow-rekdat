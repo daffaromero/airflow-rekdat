{
 "cells": [
  {
   "cell_type": "code",
   "execution_count": 1,
   "metadata": {},
   "outputs": [],
   "source": [
    "import tweepy\n",
    "import pandas as pd\n",
    "import json\n",
    "from datetime import datetime"
   ]
  },
  {
   "cell_type": "code",
   "execution_count": 2,
   "metadata": {},
   "outputs": [],
   "source": [
    "def run_twitter_etl():\n",
    "    # Twitter authentication\n",
    "    consumer_key = 'xxhLZKqGabwbTAFU7WHPDa5Jl'\n",
    "    consumer_secret = 'S3ir9SCmtThwqKyEcaFmZIXiaI1aC5BGImO8BBrJNtvGoqHiEO'\n",
    "    access_key = '914125130946682880-a02PuQgJAfdYZsigqf8a9ppYY8vIgvG'\n",
    "    access_secret = 'LG6OIGgezptevbdNbJdZPYmbEhooCGcji9R7bLlevQlOI'\n",
    "\n",
    "    auth = tweepy.OAuthHandler(consumer_key, consumer_secret)\n",
    "    auth.set_access_token(access_key, access_secret)\n",
    "\n",
    "    api = tweepy.API(auth, wait_on_rate_limit=True)\n",
    "\n",
    "    hashtag = '#WorldCup'\n",
    "    query = tweepy.Cursor(api.search_tweets, q=hashtag,\n",
    "                          tweet_mode='extended').items(100)\n",
    "    # print(tweets)\n",
    "\n",
    "    list = []\n",
    "    for tweet in query:\n",
    "        if 'retweeted_status' in tweet._json:\n",
    "            text = tweet._json['retweeted_status'][\"full_text\"]\n",
    "        else:\n",
    "            text = tweet.full_text\n",
    "\n",
    "        refined_tweet = {\"user\": tweet.user.screen_name,\n",
    "                         'text': text\n",
    "                         }\n",
    "\n",
    "        list.append(refined_tweet)\n",
    "\n",
    "    return list"
   ]
  },
  {
   "cell_type": "code",
   "execution_count": 5,
   "metadata": {},
   "outputs": [],
   "source": [
    "df = pd.DataFrame(run_twitter_etl())"
   ]
  },
  {
   "cell_type": "code",
   "execution_count": 8,
   "metadata": {},
   "outputs": [
    {
     "data": {
      "text/html": [
       "<div>\n",
       "<style scoped>\n",
       "    .dataframe tbody tr th:only-of-type {\n",
       "        vertical-align: middle;\n",
       "    }\n",
       "\n",
       "    .dataframe tbody tr th {\n",
       "        vertical-align: top;\n",
       "    }\n",
       "\n",
       "    .dataframe thead th {\n",
       "        text-align: right;\n",
       "    }\n",
       "</style>\n",
       "<table border=\"1\" class=\"dataframe\">\n",
       "  <thead>\n",
       "    <tr style=\"text-align: right;\">\n",
       "      <th></th>\n",
       "      <th>user</th>\n",
       "      <th>text</th>\n",
       "    </tr>\n",
       "  </thead>\n",
       "  <tbody>\n",
       "    <tr>\n",
       "      <th>0</th>\n",
       "      <td>Zu7Fj</td>\n",
       "      <td>العضاض #سواريز ولقطة هي\\nالأغرب لبطولات #كأس_ا...</td>\n",
       "    </tr>\n",
       "    <tr>\n",
       "      <th>1</th>\n",
       "      <td>Anish_INC</td>\n",
       "      <td>🇧🇷 @Casemiro’s winner has booked Brazil’s plac...</td>\n",
       "    </tr>\n",
       "    <tr>\n",
       "      <th>2</th>\n",
       "      <td>gtrvariedades</td>\n",
       "      <td>BTS 정국는 대한민국 대표팀를 만나다\\nBTS's Jungkook meet Kor...</td>\n",
       "    </tr>\n",
       "    <tr>\n",
       "      <th>3</th>\n",
       "      <td>PJ_Katona</td>\n",
       "      <td>We’re back! After Thankgiving break we give ou...</td>\n",
       "    </tr>\n",
       "    <tr>\n",
       "      <th>4</th>\n",
       "      <td>iFIFAHero</td>\n",
       "      <td>When CR scratches his balls and smells it, it'...</td>\n",
       "    </tr>\n",
       "  </tbody>\n",
       "</table>\n",
       "</div>"
      ],
      "text/plain": [
       "            user                                               text\n",
       "0          Zu7Fj  العضاض #سواريز ولقطة هي\\nالأغرب لبطولات #كأس_ا...\n",
       "1      Anish_INC  🇧🇷 @Casemiro’s winner has booked Brazil’s plac...\n",
       "2  gtrvariedades  BTS 정국는 대한민국 대표팀를 만나다\\nBTS's Jungkook meet Kor...\n",
       "3      PJ_Katona  We’re back! After Thankgiving break we give ou...\n",
       "4      iFIFAHero  When CR scratches his balls and smells it, it'..."
      ]
     },
     "execution_count": 8,
     "metadata": {},
     "output_type": "execute_result"
    }
   ],
   "source": [
    "df.head()"
   ]
  },
  {
   "cell_type": "code",
   "execution_count": 10,
   "metadata": {},
   "outputs": [],
   "source": [
    "df.to_csv('./ngetestdata.csv', index=False, header=True)"
   ]
  },
  {
   "cell_type": "code",
   "execution_count": 11,
   "metadata": {},
   "outputs": [
    {
     "data": {
      "text/html": [
       "<div>\n",
       "<style scoped>\n",
       "    .dataframe tbody tr th:only-of-type {\n",
       "        vertical-align: middle;\n",
       "    }\n",
       "\n",
       "    .dataframe tbody tr th {\n",
       "        vertical-align: top;\n",
       "    }\n",
       "\n",
       "    .dataframe thead th {\n",
       "        text-align: right;\n",
       "    }\n",
       "</style>\n",
       "<table border=\"1\" class=\"dataframe\">\n",
       "  <thead>\n",
       "    <tr style=\"text-align: right;\">\n",
       "      <th></th>\n",
       "      <th>user</th>\n",
       "      <th>text</th>\n",
       "    </tr>\n",
       "  </thead>\n",
       "  <tbody>\n",
       "    <tr>\n",
       "      <th>0</th>\n",
       "      <td>Zu7Fj</td>\n",
       "      <td>العضاض #سواريز ولقطة هي\\nالأغرب لبطولات #كأس_ا...</td>\n",
       "    </tr>\n",
       "    <tr>\n",
       "      <th>1</th>\n",
       "      <td>Anish_INC</td>\n",
       "      <td>🇧🇷 @Casemiro’s winner has booked Brazil’s plac...</td>\n",
       "    </tr>\n",
       "    <tr>\n",
       "      <th>2</th>\n",
       "      <td>gtrvariedades</td>\n",
       "      <td>BTS 정국는 대한민국 대표팀를 만나다\\nBTS's Jungkook meet Kor...</td>\n",
       "    </tr>\n",
       "    <tr>\n",
       "      <th>3</th>\n",
       "      <td>PJ_Katona</td>\n",
       "      <td>We’re back! After Thankgiving break we give ou...</td>\n",
       "    </tr>\n",
       "    <tr>\n",
       "      <th>4</th>\n",
       "      <td>iFIFAHero</td>\n",
       "      <td>When CR scratches his balls and smells it, it'...</td>\n",
       "    </tr>\n",
       "  </tbody>\n",
       "</table>\n",
       "</div>"
      ],
      "text/plain": [
       "            user                                               text\n",
       "0          Zu7Fj  العضاض #سواريز ولقطة هي\\nالأغرب لبطولات #كأس_ا...\n",
       "1      Anish_INC  🇧🇷 @Casemiro’s winner has booked Brazil’s plac...\n",
       "2  gtrvariedades  BTS 정국는 대한민국 대표팀를 만나다\\nBTS's Jungkook meet Kor...\n",
       "3      PJ_Katona  We’re back! After Thankgiving break we give ou...\n",
       "4      iFIFAHero  When CR scratches his balls and smells it, it'..."
      ]
     },
     "execution_count": 11,
     "metadata": {},
     "output_type": "execute_result"
    }
   ],
   "source": [
    "dfread = pd.read_csv('./playgrounddata.csv')\n",
    "dfread.head()"
   ]
  }
 ],
 "metadata": {
  "kernelspec": {
   "display_name": "Python 3.10.4 64-bit",
   "language": "python",
   "name": "python3"
  },
  "language_info": {
   "codemirror_mode": {
    "name": "ipython",
    "version": 3
   },
   "file_extension": ".py",
   "mimetype": "text/x-python",
   "name": "python",
   "nbconvert_exporter": "python",
   "pygments_lexer": "ipython3",
   "version": "3.10.4"
  },
  "orig_nbformat": 4,
  "vscode": {
   "interpreter": {
    "hash": "9b0ee28c6ade25ce3851b4ca5491f391a8544d9f6445e0850f4e7068c5059bc5"
   }
  }
 },
 "nbformat": 4,
 "nbformat_minor": 2
}
